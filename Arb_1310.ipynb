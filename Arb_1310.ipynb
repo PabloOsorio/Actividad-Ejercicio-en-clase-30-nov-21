{
  "nbformat": 4,
  "nbformat_minor": 0,
  "metadata": {
    "colab": {
      "name": "Arb_1310.ipynb",
      "provenance": [],
      "authorship_tag": "ABX9TyOBuHt6xNvFdH3dnDH9Fqvt",
      "include_colab_link": true
    },
    "kernelspec": {
      "name": "python3",
      "display_name": "Python 3"
    },
    "language_info": {
      "name": "python"
    }
  },
  "cells": [
    {
      "cell_type": "markdown",
      "metadata": {
        "id": "view-in-github",
        "colab_type": "text"
      },
      "source": [
        "<a href=\"https://colab.research.google.com/github/PabloOsorio/Actividad-Ejercicio-en-clase-30-nov-21/blob/main/Arb_1310.ipynb\" target=\"_parent\"><img src=\"https://colab.research.google.com/assets/colab-badge.svg\" alt=\"Open In Colab\"/></a>"
      ]
    },
    {
      "cell_type": "code",
      "metadata": {
        "id": "upNQwJ-FTfz6"
      },
      "source": [
        "class NodoBinario:\n",
        "    def __init__(self , value , left=None , rigth=None ):\n",
        "        self.data = value\n",
        "        self.left = left\n",
        "        self.rigth = rigth\n",
        "\n",
        "class BinarySearchTree:\n",
        "    def __init__( self ):\n",
        "        self.root = None\n",
        "    def insert ( self , value ):\n",
        "        if self.root == None:\n",
        "            self.root = NodoBinario ( value )\n",
        "        else:\n",
        "            self.__insert_nodo( self.root , value ) \n",
        "\n",
        "\n",
        "    def __insert_nodo ( self , nodo , value ):\n",
        "        if nodo.data == value:\n",
        "            pass\n",
        "        elif value < nodo.data:  #ir a la izquierda\n",
        "            if nodo.left == None:\n",
        "                nodo.left == NodoBinario( value )\n",
        "            else:\n",
        "                self.__insert_nodo( nodo.left , value)\n",
        "        else: #ir a la derecha \n",
        "            if nodo.rigth == None:\n",
        "                nodo.rigth = NodoBinario( value )\n",
        "            else:\n",
        "                self.__insert_nodo( nodo.rigth , value )\n",
        "    \n",
        "    def transversal( self , formato = \"posorden\"):\n",
        "        if formato == \"posorden\":\n",
        "            self.recorrido_pos( self.root )\n",
        "        elif formato == \"preorden\":\n",
        "            self.recorrido_pre( self.root )\n",
        "        else: #inorden\n",
        "            self.recorrido_in( self.root ) \n",
        "        print()\n",
        "\n",
        "    def recorrido_pos( self , nodo ):\n",
        "        if nodo != None:\n",
        "            self.recorrido_pos( nodo.left )\n",
        "            self.recorrido_pos( nodo.rigth )\n",
        "            print( str(nodo.data) , end=\" , \"  )\n",
        "            \n",
        "\n",
        "    def recorrido_pre( self , nodo ):\n",
        "        if nodo != None:\n",
        "            print( str(nodo.data) , end=\" , \"  )\n",
        "            self.recorrido_pre( nodo.left )\n",
        "            self.recorrido_pre( nodo.rigth )\n",
        "            \n",
        "\n",
        "    def recorrido_in( self , nodo ):\n",
        "        if nodo != None:\n",
        "            self.recorrido_in( nodo.left )\n",
        "            print( str(nodo.data) , end=\" , \" )\n",
        "            self.recorrido_in( nodo.rigth )\n",
        "\n",
        "    def search( self , value ):\n",
        "        if self.root == None:\n",
        "            print(\"El arbol esta vacío \")\n",
        "            return None\n",
        "        else:\n",
        "            self.__search(self.root , value )\n",
        "    def __search( self, nodo , value ):\n",
        "        if nodo.data == None:\n",
        "            print(\"El dato no existe en el árbol\")\n",
        "            return None\n",
        "        elif nodo.data == value:\n",
        "            print(\"Encontrado\")\n",
        "            return nodo\n",
        "        elif value < nodo.data:\n",
        "            return self.__buscar( nodo.left , value )\n",
        "        else:\n",
        "            return self.__buscar( nodo.rigth , value )"
      ],
      "execution_count": 1,
      "outputs": []
    },
    {
      "cell_type": "code",
      "metadata": {
        "colab": {
          "base_uri": "https://localhost:8080/"
        },
        "id": "xkj8c2v0TmnT",
        "outputId": "fc52e99e-e763-4668-8efc-8b51933edcfb"
      },
      "source": [
        "arbol1 = BinarySearchTree()\n",
        "arbol1.insert(60)\n",
        "arbol1.insert(30)\n",
        "arbol1.insert(15)\n",
        "arbol1.insert(40)\n",
        "arbol1.transversal(\"posorden\")\n",
        "arbol1.transversal(\"preorden\")\n",
        "arbol1.transversal(\"inorden\")"
      ],
      "execution_count": 2,
      "outputs": [
        {
          "output_type": "stream",
          "name": "stdout",
          "text": [
            "60 , \n",
            "60 , \n",
            "60 , \n"
          ]
        }
      ]
    }
  ]
}